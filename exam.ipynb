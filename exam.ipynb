{
 "cells": [
  {
   "cell_type": "code",
   "execution_count": 7,
   "id": "30563305",
   "metadata": {},
   "outputs": [
    {
     "name": "stdout",
     "output_type": "stream",
     "text": [
      "(['Old boy', 'Simple', 'attenuate', 'shy ones', 'toxic things', 'silent words', 'big daddy', 'juvenile', 'mothers love', 'the foxes', 'IT today'], ['The living light', 'nigeria election'], ['Happy', 'Brave', 'Old boy', 'Simple', 'attenuate', 'shy ones', 'toxic things', 'silent words', 'big daddy', 'juvenile', 'mothers love', 'the foxes', 'IT today'])\n"
     ]
    }
   ],
   "source": [
    "data = [\"The living light\",\"Happy\",\"Brave\",\"Old boy\",\"Simple\",\"attenuate\",\"shy ones\",\"toxic things\",\"silent words\",\"big daddy\",\"juvenile\",\"mothers love\",\"the foxes\",\"nigeria election\",\"IT today\"]\n",
    "\n",
    "def lstpl(data):\n",
    "    greater5less15=[]\n",
    "    greater15=[]\n",
    "    notfit=[]\n",
    "    \n",
    "    \n",
    "    for string in data:\n",
    "        a=len(string)>5\n",
    "        b=len(string)<15\n",
    "        c=len(string)>15\n",
    "        if a and b:\n",
    "            greater5less15.append(string)\n",
    "        if c:\n",
    "            greater15.append(string)\n",
    "        else:\n",
    "            notfit.append(string)\n",
    "        \n",
    "    return greater5less15, greater15, notfit\n",
    "\n",
    "    \n",
    "x=lstpl(data)\n",
    "print(x)"
   ]
  },
  {
   "cell_type": "code",
   "execution_count": null,
   "id": "646d7930",
   "metadata": {},
   "outputs": [],
   "source": []
  }
 ],
 "metadata": {
  "kernelspec": {
   "display_name": "Python 3 (ipykernel)",
   "language": "python",
   "name": "python3"
  },
  "language_info": {
   "codemirror_mode": {
    "name": "ipython",
    "version": 3
   },
   "file_extension": ".py",
   "mimetype": "text/x-python",
   "name": "python",
   "nbconvert_exporter": "python",
   "pygments_lexer": "ipython3",
   "version": "3.11.1"
  }
 },
 "nbformat": 4,
 "nbformat_minor": 5
}
